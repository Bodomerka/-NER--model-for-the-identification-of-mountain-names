{
  "cells": [
    {
      "cell_type": "markdown",
      "metadata": {
        "id": "zTPGOFyLHHBZ"
      },
      "source": [
        "# **(NER) model for the identification of mountain names inside the texts.**\n"
      ]
    },
    {
      "cell_type": "markdown",
      "metadata": {
        "id": "lDrC0EzkHT9j"
      },
      "source": [
        "To solve the problem, we decided to use the free open-source library for Natural Language Processing - **spaCy**\n",
        "\n",
        "---\n",
        "\n",
        "It was decided to use GPT to generate training data. Annotating data in the format supported by spaCy using GPT chat is not effective. Because GPT does not correctly indicate labels in the text, which makes annotations incorrect.\n",
        "Therefore, only sentences were generated using GPT to train the models.\n",
        "\n",
        "---\n",
        "\n",
        "It was decided to annotate the data manually using\n",
        "https://arunmozhi.in/ner-annotator/\n"
      ]
    },
    {
      "cell_type": "markdown",
      "metadata": {
        "id": "s93eCRn1JL43"
      },
      "source": [
        "After annotating the data on this service, you need to convert the data into a format for spaCy training. Because the format provided by the service is not suitable for training. There is an **anot.py** file that does this"
      ]
    },
    {
      "cell_type": "markdown",
      "metadata": {
        "id": "l-pdg8x4Lpcu"
      },
      "source": [
        "Format provided by the service https://arunmozhi.in/ner-annotator/"
      ]
    },
    {
      "cell_type": "markdown",
      "metadata": {
        "id": "yEvvn1MALX_Q"
      },
      "source": [
        "\n",
        "\n",
        "```\n",
        "{\"classes\":[\"MOUNTAIN\"],\"annotations\":[[\"Mount Everest is the highest mountain in the world, standing at 8,848 meters.\n",
        "It is part of the Himalayas, a mountain range in Asia that also includes K2, the second-highest mountain.\n",
        "Annapurna and Kangchenjunga are other significant peaks in this region.\n",
        "The Alps in Europe contain notable mountains such as Mont Blanc and Matterhorn. In the Andes,\n",
        "Aconcagua rises to 6,961 meters, making it the highest peak in South America.\\r\",\n",
        "{\"entities\":[[6,13,\"MOUNTAIN\"],[96,105,\"MOUNTAIN\"],[151,153,\"MOUNTAIN\"],\n",
        "[184,193,\"MOUNTAIN\"],[198,211,\"MOUNTAIN\"],[256,264,\"MOUNTAIN\"],\n",
        "[309,319,\"MOUNTAIN\"],[324,335,\"MOUNTAIN\"],[350,359,\"MOUNTAIN\"]]}]]}\n",
        "```\n",
        "\n"
      ]
    },
    {
      "cell_type": "markdown",
      "metadata": {
        "id": "SCrqpYiiICUq"
      },
      "source": [
        "**anot.py**"
      ]
    },
    {
      "cell_type": "markdown",
      "metadata": {
        "id": "fhLjwr-hK8pZ"
      },
      "source": [
        "the convert_format_from_text function has been adapted to enter data into the program to demonstrate an example of its use\n",
        "\n"
      ]
    },
    {
      "cell_type": "code",
      "execution_count": 2,
      "metadata": {
        "colab": {
          "base_uri": "https://localhost:8080/"
        },
        "id": "4A1x3p57HDsP",
        "outputId": "88da3a4b-a9d2-46b8-9f0a-11784befc10a"
      },
      "outputs": [
        {
          "name": "stdout",
          "output_type": "stream",
          "text": [
            "[\n",
            "  [\n",
            "    \"Mount Everest is the highest mountain in the world, standing at 8,848 meters. It is part of the Himalayas, a mountain range in Asia that also includes K2, the second-highest mountain. Annapurna and Kangchenjunga are other significant peaks in this region. The Alps in Europe contain notable mountains such as Mont Blanc and Matterhorn. In the Andes, Aconcagua rises to 6,961 meters, making it the highest peak in South America.\\r\",\n",
            "    {\n",
            "      \"entities\": [\n",
            "        [\n",
            "          6,\n",
            "          13,\n",
            "          \"MOUNTAIN\"\n",
            "        ],\n",
            "        [\n",
            "          96,\n",
            "          105,\n",
            "          \"MOUNTAIN\"\n",
            "        ],\n",
            "        [\n",
            "          151,\n",
            "          153,\n",
            "          \"MOUNTAIN\"\n",
            "        ],\n",
            "        [\n",
            "          184,\n",
            "          193,\n",
            "          \"MOUNTAIN\"\n",
            "        ],\n",
            "        [\n",
            "          198,\n",
            "          211,\n",
            "          \"MOUNTAIN\"\n",
            "        ],\n",
            "        [\n",
            "          256,\n",
            "          264,\n",
            "          \"MOUNTAIN\"\n",
            "        ],\n",
            "        [\n",
            "          309,\n",
            "          319,\n",
            "          \"MOUNTAIN\"\n",
            "        ],\n",
            "        [\n",
            "          324,\n",
            "          335,\n",
            "          \"MOUNTAIN\"\n",
            "        ],\n",
            "        [\n",
            "          350,\n",
            "          359,\n",
            "          \"MOUNTAIN\"\n",
            "        ]\n",
            "      ]\n",
            "    }\n",
            "  ]\n",
            "]\n"
          ]
        }
      ],
      "source": [
        "import json\n",
        "\n",
        "def convert_format_from_text(data):\n",
        "    # Get the list of annotations\n",
        "    annotations = data.get(\"annotations\", [])\n",
        "\n",
        "    # New data format\n",
        "    new_format = []\n",
        "\n",
        "    # Convert each annotation\n",
        "    for annotation in annotations:\n",
        "        if annotation and isinstance(annotation, list) and len(annotation) >= 2:\n",
        "            text = annotation[0]\n",
        "            entities = annotation[1].get(\"entities\", [])\n",
        "\n",
        "            # Create a new entry\n",
        "            new_format.append([text, {\"entities\": entities}])\n",
        "        else:\n",
        "            print(f\"Skipped invalid annotation: {annotation}\")\n",
        "\n",
        "    # Print the new format as JSON\n",
        "    formatted_output = json.dumps(new_format, ensure_ascii=False, indent=2)\n",
        "    print(formatted_output)\n",
        "\n",
        "# Example usage of the function\n",
        "input_text = {\"classes\":[\"MOUNTAIN\"],\"annotations\":[[\"Mount Everest is the highest mountain in the world, standing at 8,848 meters. It is part of the Himalayas, a mountain range in Asia that also includes K2, the second-highest mountain. Annapurna and Kangchenjunga are other significant peaks in this region. The Alps in Europe contain notable mountains such as Mont Blanc and Matterhorn. In the Andes, Aconcagua rises to 6,961 meters, making it the highest peak in South America.\\r\",{\"entities\":[[6,13,\"MOUNTAIN\"],[96,105,\"MOUNTAIN\"],[151,153,\"MOUNTAIN\"],[184,193,\"MOUNTAIN\"],[198,211,\"MOUNTAIN\"],[256,264,\"MOUNTAIN\"],[309,319,\"MOUNTAIN\"],[324,335,\"MOUNTAIN\"],[350,359,\"MOUNTAIN\"]]}]]}\n",
        "\n",
        "convert_format_from_text(input_text)\n",
        "\n"
      ]
    },
    {
      "cell_type": "markdown",
      "metadata": {
        "id": "7AiKn-m8TI1i"
      },
      "source": [
        "Another way of annotating data was also considered. A list of known mountains (1600+ instances) was taken from Wikipedia.\n",
        "The idea was to search the generated texts for mountain names that were written to a csv file.\n",
        "This method proved to be efficient and flexible. Therefore, the model and results, training data will also be added to a separate folder"
      ]
    }
  ],
  "metadata": {
    "colab": {
      "provenance": []
    },
    "kernelspec": {
      "display_name": "Python 3",
      "name": "python3"
    },
    "language_info": {
      "codemirror_mode": {
        "name": "ipython",
        "version": 3
      },
      "file_extension": ".py",
      "mimetype": "text/x-python",
      "name": "python",
      "nbconvert_exporter": "python",
      "pygments_lexer": "ipython3",
      "version": "3.11.9"
    }
  },
  "nbformat": 4,
  "nbformat_minor": 0
}
